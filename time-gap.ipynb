{
 "cells": [
  {
   "cell_type": "code",
   "execution_count": null,
   "metadata": {},
   "outputs": [],
   "source": [
    "from pyflink.table import *\n",
    "from pyflink.table.expressions import concat"
   ]
  },
  {
   "cell_type": "code",
   "execution_count": null,
   "metadata": {},
   "outputs": [],
   "source": [
    "# environment configuration\n",
    "t_env = BatchTableEnvironment.create(\n",
    "    environment_settings=EnvironmentSettings.new_instance().in_batch_mode().use_blink_planner().build())"
   ]
  },
  {
   "cell_type": "code",
   "execution_count": null,
   "metadata": {},
   "outputs": [],
   "source": [
    "source_data_path = \"netflix_time.csv\"\n",
    "result_data_path = \"output.csv\"\n",
    "source_ddl = f\"\"\"\n",
    "        create table Media(\n",
    "            SHOW_ID VARCHAR,\n",
    "            DATE_ADDED DATE,\n",
    "            RELEASE_YEAR INTEGER\n",
    "            ) with (\n",
    "            'connector' = 'filesystem',\n",
    "            'format' = 'csv',\n",
    "            'path' = '{source_data_path}'\n",
    "        )\n",
    "        \"\"\"\n",
    "t_env.execute_sql(source_ddl)"
   ]
  },
  {
   "cell_type": "code",
   "execution_count": null,
   "metadata": {},
   "outputs": [],
   "source": [
    "sink_ddl = f\"\"\"\n",
    "    create table `Result`(\n",
    "        DATE_ADDED DATE,\n",
    "        RELEASE_YEAR INTEGER       \n",
    "        ) with (\n",
    "        'connector' = 'filesystem',\n",
    "        'format' = 'csv',\n",
    "        'path' = '{result_data_path}'\n",
    "    )\n",
    "    \"\"\"\n",
    "t_env.execute_sql(sink_ddl)"
   ]
  },
  {
   "cell_type": "code",
   "execution_count": null,
   "metadata": {},
   "outputs": [],
   "source": []
  }
 ],
 "metadata": {
  "kernelspec": {
   "display_name": "Python 3",
   "language": "python",
   "name": "python3"
  },
  "language_info": {
   "codemirror_mode": {
    "name": "ipython",
    "version": 3
   },
   "file_extension": ".py",
   "mimetype": "text/x-python",
   "name": "python",
   "nbconvert_exporter": "python",
   "pygments_lexer": "ipython3",
   "version": "3.8.5"
  }
 },
 "nbformat": 4,
 "nbformat_minor": 4
}
