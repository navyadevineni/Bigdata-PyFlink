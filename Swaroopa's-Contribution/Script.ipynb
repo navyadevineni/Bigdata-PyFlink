{
  "nbformat": 4,
  "nbformat_minor": 0,
  "metadata": {
    "colab": {
      "name": "Untitled5.ipynb",
      "provenance": []
    },
    "kernelspec": {
      "name": "python3",
      "display_name": "Python 3"
    }
  },
  "cells": [
    {
      "cell_type": "code",
      "metadata": {
        "id": "jdBxJdqv6Rnc"
      },
      "source": [
        "from pyflink.table import StreamTableEnvironment, DataTypes, table_config\r\n",
        "from pyflink.datastream import StreamExecutionEnvironment\r\n",
        "env = StreamExecutionEnvironment.get_execution_environment()\r\n",
        "env.set_parallelism(1)\r\n",
        "dataframe_netflix_titles = pd.read_csv(\"/content/netflix_titles.csv\")\r\n",
        "# Keys\r\n",
        "print(\"The keys of the datasets are as follows:\")\r\n",
        "print(dataframe_netflix_titles.keys())\r\n",
        "print(\"*********************************************************************************************************************************\")\r\n",
        "print(\"The quick overview of the data using info() in the dataset is:\")\r\n",
        "dataframe_netflix_titles.info()\r\n",
        "print(\"*********************************************************************************************************************************\")\r\n",
        "print(\"The basic information about the choosen feature is as follows\") \r\n",
        "dataframe_netflix_titles['release_year'].describe()\r\n",
        "\r\n",
        "print(\"*********************************************************************************************************************************\")\r\n",
        "print(\"counting the number of different values in a single column as specified\")\r\n",
        "dataframe_netflix_titles['type'].value_counts()"
      ],
      "execution_count": null,
      "outputs": []
    }
  ]
}